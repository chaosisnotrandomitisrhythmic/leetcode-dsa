{
 "cells": [
  {
   "cell_type": "markdown",
   "id": "e91b62a6",
   "metadata": {},
   "source": [
    " # Introduction to recursion"
   ]
  },
  {
   "cell_type": "markdown",
   "id": "9ddc72a0",
   "metadata": {},
   "source": [
    "Recursion is a problem solving method. In code, recursion is implemented using a function that calls itself.\n",
    "\n",
    "The opposite of a recursive algorithm would be an iterative algorithm. There [is a branch](https://en.wikipedia.org/wiki/Computability_theory) of study that proves that any iterative algorithm can be written recursively. While iterative algorithms use for loops and while loops to simulate repetition, recursive algorithms use function calls to simulate the same logic.\n",
    "\n",
    "Let's say that we wanted to print the numbers from 1 to 10. Here's some pseudocode for an iterative algorithm:"
   ]
  },
  {
   "cell_type": "code",
   "execution_count": 1,
   "id": "78d1c1ea",
   "metadata": {
    "ExecuteTime": {
     "end_time": "2024-10-16T08:34:12.177880Z",
     "start_time": "2024-10-16T08:34:12.172555Z"
    }
   },
   "outputs": [
    {
     "name": "stdout",
     "output_type": "stream",
     "text": [
      "1\n",
      "2\n",
      "3\n",
      "4\n",
      "5\n",
      "6\n",
      "7\n",
      "8\n",
      "9\n",
      "10\n"
     ]
    }
   ],
   "source": [
    "for i in range(1,11):\n",
    "    print(i)"
   ]
  },
  {
   "cell_type": "code",
   "execution_count": 2,
   "id": "28211756",
   "metadata": {
    "ExecuteTime": {
     "end_time": "2024-10-16T08:34:18.837476Z",
     "start_time": "2024-10-16T08:34:18.833239Z"
    }
   },
   "outputs": [
    {
     "name": "stdout",
     "output_type": "stream",
     "text": [
      "1\n",
      "2\n",
      "3\n",
      "4\n",
      "5\n",
      "6\n",
      "7\n",
      "8\n",
      "9\n",
      "10\n"
     ]
    }
   ],
   "source": [
    "def fn(i):\n",
    "    if i > 10:  # basecase\n",
    "        return\n",
    "    print(i)\n",
    "    fn(i+1)\n",
    "    return \n",
    "\n",
    "\n",
    "fn(1)"
   ]
  },
  {
   "cell_type": "markdown",
   "id": "023fad9b",
   "metadata": {},
   "source": [
    "After we call `fn(10)`, we print `10` and call `fn(11)`. In the `fn(11)` call, we trigger the base case and return. So now we are back in the call to `fn(10)` and move to the next line, which is the return statement. This makes us return back to the `fn(9)` call and so on, until we eventually return from the `fn(1)` call and the algorithm terminates.\n",
    "\n",
    "An important thing to understand about recursion is the order in which the code runs - the order in which the computer executes instructions. With an iterative program, it's easy - start at the top, and go line by line. With recursion, it can get confusing because calls can cascade on top of each other. Let's print numbers again, but this time only up to 3. Let's also add another print statement and number the lines:"
   ]
  },
  {
   "cell_type": "code",
   "execution_count": 3,
   "id": "ca8f0f92",
   "metadata": {
    "ExecuteTime": {
     "end_time": "2024-10-16T08:34:26.035870Z",
     "start_time": "2024-10-16T08:34:26.030583Z"
    }
   },
   "outputs": [
    {
     "name": "stdout",
     "output_type": "stream",
     "text": [
      "1\n",
      "2\n",
      "3\n",
      "End of call where i = 3\n",
      "End of call where i = 2\n",
      "End of call where i = 1\n"
     ]
    }
   ],
   "source": [
    "def fn(i):\n",
    "    if i > 3:  # basecase\n",
    "        return\n",
    "    print(i)\n",
    "    fn(i+1)\n",
    "    print(f\"End of call where i = {i}\")\n",
    "    return \n",
    "\n",
    "\n",
    "fn(1)"
   ]
  },
  {
   "cell_type": "markdown",
   "id": "b030c345",
   "metadata": {},
   "source": [
    "`fn(1)`\n",
    "\n",
    "    `fn(2)`\n",
    "    \n",
    "        `fn(3)`\n",
    "            \n",
    "            `fn(4)` returns base case\n",
    "            \n",
    "        `fn(3)` returns from within `fn(4)`\n",
    "        \n",
    "     `fn(2)` returns from within `fn(3)`\n",
    " \n",
    "`fn(1)` returns from within `fn(2)`\n",
    "         "
   ]
  },
  {
   "cell_type": "markdown",
   "id": "e8e06a33",
   "metadata": {},
   "source": [
    "As you can see, the line where we print text is executed in reverse order. The original call `fn(1)` first prints `1`, then calls to `fn(2)`, which prints `2`, then calls to `fn(3)`, which prints `3`, then calls to `fn(4)`. Now, this is the important part: how recursion \"moves\" back \"up\". `fn(4)` triggers the base case, which returns. We are now back in the function call where `i = 3` and line 4 has finished, so we move to the line 5 which prints `\"End of call where i = 3\"`. Once that line runs, we move to the next line, which is a `return`. Now, we are back in the function call where `i = 2` and line 4 line has finished, so again we move to the next line and print `\"End of the call where i = 2\"`. This repeats until the original function call to `fn(1)` returns.\n",
    "\n",
    "> Every function call \"exists\" until it returns. When we move to a different function call, the old one waits until the new one returns. The order in which the calls happens is remembered, and the lines within the functions are executed in order.\n",
    ">\n",
    "> Note that each function call also has its own local scope. So in the example above, when we call `f(3)`, there are 3 \"versions\" of `i` simultaneously. The first call has `i = 1`, the second call has `i = 2`, and the third call has `i = 3`. Let's say that we were to do `i += 1` in the `f(3)` call. Then `i` becomes `4`, but only in the `f(3)` call. The other 2 \"versions\" of `i` are unaffected because they are in different scopes."
   ]
  },
  {
   "cell_type": "markdown",
   "id": "d93b28c1",
   "metadata": {},
   "source": [
    "## Breaking problems down\n",
    "This printing example is pretty pointless - it's easier to use a for loop if you just want to print numbers. Where recursion shines is when you use it to break down a problem into \"subproblems\", whose solutions can then be combined to solve the original problem.\n",
    "\n",
    "Let's look at the [Fibonacci numbers](https://en.wikipedia.org/wiki/Fibonacci_number). The Fibonacci numbers are a sequence of numbers starting with `0, 1`. Then, each number is defined as the sum of the previous two numbers. The first few Fibonacci numbers are `0, 1, 1, 2, 3, 5, 8`. More formally, we have"
   ]
  },
  {
   "cell_type": "code",
   "execution_count": 4,
   "id": "97873c66",
   "metadata": {
    "ExecuteTime": {
     "end_time": "2024-10-16T08:34:34.678281Z",
     "start_time": "2024-10-16T08:34:34.672882Z"
    }
   },
   "outputs": [
    {
     "name": "stdout",
     "output_type": "stream",
     "text": [
      "0\n",
      "1\n",
      "1\n",
      "2\n",
      "3\n",
      "5\n",
      "8\n",
      "13\n",
      "21\n",
      "34\n"
     ]
    }
   ],
   "source": [
    "def fibonacci(n):\n",
    "    if n <= 1:\n",
    "        return n\n",
    "    oneBack = fibonacci(n - 1)\n",
    "    twoBack = fibonacci(n - 2)\n",
    "    return oneBack + twoBack\n",
    "\n",
    "for i in range(10):\n",
    "    print(fibonacci(i))"
   ]
  },
  {
   "cell_type": "markdown",
   "id": "a8802ae1",
   "metadata": {},
   "source": [
    "Execution Flow Example\n",
    "\n",
    "Let's compute  F(5) :\n",
    "\n",
    "1.  fibonacci(5) calls fibonacci(4) and fibonacci(3)\n",
    "\n",
    "2.  fibonacci(4) calls fibonacci(3) and fibonacci(2)\n",
    "\n",
    "3.  fibonacci(3) calls fibonacci(2) and fibonacci(1)\n",
    "\n",
    "4.  This pattern continues until the base cases are reached.\n",
    "\n",
    "The function builds a call stack, where each call waits for the results of its recursive calls.\n",
    "\n",
    "Visualization of Recursive Calls\n",
    "\n",
    "``` bash\n",
    "fibonacci(5)\n",
    "|\n",
    "|-- fibonacci(4)\n",
    "|   |-- fibonacci(3)\n",
    "|   |   |-- fibonacci(2)\n",
    "|   |   |   |-- fibonacci(1) => 1\n",
    "|   |   |   |-- fibonacci(0) => 0\n",
    "|   |   |-- fibonacci(1) => 1\n",
    "|   |-- fibonacci(2)\n",
    "|       |-- fibonacci(1) => 1\n",
    "|       |-- fibonacci(0) => 0\n",
    "|-- fibonacci(3)\n",
    "    |-- fibonacci(2)\n",
    "    |   |-- fibonacci(1) => 1\n",
    "    |   |-- fibonacci(0) => 0\n",
    "    |-- fibonacci(1) => 1\n",
    "```\n",
    "\n",
    "Adding up the returned values, we get  F(5) = 5 .\n",
    "\n",
    "**Considerations and Efficiency**\n",
    "\n",
    "**Time Complexity**\n",
    "\n",
    "The naive recursive approach has exponential time complexity  O(2^n)  due to the repeated calculations of the same subproblems. For example, fibonacci(3) is computed multiple times in the process of computing fibonacci(5).\n",
    "\n",
    "**Space Complexity**\n",
    "\n",
    "The space complexity is  O(n) , which is the maximum depth of the recursion stack.\n",
    "\n",
    "**Improving Efficiency with Memoization**\n",
    "\n",
    "To optimize the recursive solution, we can use memoization, which involves storing the results of expensive function calls and returning the cached result when the same inputs occur again.\n",
    "\n",
    "Here's the memoized version:"
   ]
  },
  {
   "cell_type": "code",
   "execution_count": 5,
   "id": "da8de676",
   "metadata": {
    "ExecuteTime": {
     "end_time": "2024-10-16T08:34:45.861521Z",
     "start_time": "2024-10-16T08:34:45.854851Z"
    }
   },
   "outputs": [
    {
     "name": "stdout",
     "output_type": "stream",
     "text": [
      "0\n",
      "1\n",
      "1\n",
      "2\n",
      "3\n",
      "5\n",
      "8\n",
      "13\n",
      "21\n",
      "34\n"
     ]
    }
   ],
   "source": [
    "memo = {}\n",
    "\n",
    "\n",
    "def finonacci(n):\n",
    "    if n in memo:\n",
    "        return memo[n]\n",
    "    if n == 0:\n",
    "        memo[0] = 0\n",
    "    elif n == 1:\n",
    "        memo[1] = 1\n",
    "    else:\n",
    "        memo[n] = fibonacci(n - 1) + fibonacci(n - 2)\n",
    "\n",
    "    return memo[n]\n",
    "\n",
    "\n",
    "for i in range(10):\n",
    "    print(fibonacci(i))"
   ]
  },
  {
   "cell_type": "markdown",
   "id": "bf8ed0a4",
   "metadata": {},
   "source": [
    "Now, the time complexity improves to linear time  O(n) , since each Fibonacci number up to  n  is computed only once.\n",
    "\n",
    "**Alternative: Using Built-in Caching (Functools)**\n",
    "\n",
    "Python's functools module provides a decorator lru_cache that can be used for memoization:"
   ]
  },
  {
   "cell_type": "code",
   "execution_count": 6,
   "id": "3b0753f6",
   "metadata": {
    "ExecuteTime": {
     "end_time": "2024-10-16T08:34:52.608745Z",
     "start_time": "2024-10-16T08:34:52.603256Z"
    }
   },
   "outputs": [
    {
     "name": "stdout",
     "output_type": "stream",
     "text": [
      "0\n",
      "1\n",
      "1\n",
      "2\n",
      "3\n",
      "5\n",
      "8\n",
      "13\n",
      "21\n",
      "34\n"
     ]
    }
   ],
   "source": [
    "from functools import lru_cache\n",
    "\n",
    "\n",
    "@lru_cache(maxsize=None)\n",
    "def fibonacci(n):\n",
    "    if n == 0:\n",
    "        return 0\n",
    "    elif n == 1:\n",
    "        return 1\n",
    "    else:\n",
    "        return fibonacci(n - 1) + fibonacci(n - 2)\n",
    "\n",
    "\n",
    "for i in range(10):\n",
    "    print(fibonacci(i))"
   ]
  },
  {
   "cell_type": "markdown",
   "id": "a43245a7",
   "metadata": {},
   "source": [
    "**Conclusion**\n",
    "\n",
    "Solving the Fibonacci problem with a recursive function involves defining a function that calls itself to compute previous Fibonacci numbers, directly reflecting the mathematical definition. While the naive recursive approach is straightforward and elegant, it is inefficient for large  n  due to redundant calculations.\n",
    "\n",
    "By incorporating memoization, either manually or using built-in tools like lru_cache, we can significantly improve the efficiency, making recursion a viable solution even for larger inputs.\n",
    "\n",
    "**Key Takeaways**\n",
    "\n",
    "-  Recursion mirrors mathematical definitions: Recursive functions are a natural fit for problems defined recursively.\n",
    "\n",
    "-  Base cases are crucial: They prevent infinite recursion and provide stopping points.\n",
    "\n",
    "-  Efficiency matters: Be mindful of time and space complexities; optimize recursive solutions when necessary.\n",
    "\n",
    "-  Memoization enhances recursion: Storing intermediate results avoids redundant computations."
   ]
  },
  {
   "cell_type": "code",
   "execution_count": null,
   "id": "990a99bf",
   "metadata": {},
   "outputs": [],
   "source": []
  }
 ],
 "metadata": {
  "kernelspec": {
   "display_name": "Python [conda env:chaos_magick]",
   "language": "python",
   "name": "conda-env-chaos_magick-py"
  },
  "language_info": {
   "codemirror_mode": {
    "name": "ipython",
    "version": 3
   },
   "file_extension": ".py",
   "mimetype": "text/x-python",
   "name": "python",
   "nbconvert_exporter": "python",
   "pygments_lexer": "ipython3",
   "version": "3.12.4"
  }
 },
 "nbformat": 4,
 "nbformat_minor": 5
}
